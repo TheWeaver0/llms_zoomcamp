{
 "cells": [
  {
   "cell_type": "code",
   "execution_count": 82,
   "id": "cb3d4898-29f5-4cda-b5e8-1af29406f065",
   "metadata": {},
   "outputs": [],
   "source": [
    "# !wget https://raw.githubusercontent.com/alexeygrigorev/minsearch/main/minsearch/minsearch.py"
   ]
  },
  {
   "cell_type": "code",
   "execution_count": 83,
   "id": "66ddf89a-2739-4d21-9bcc-3f727743c047",
   "metadata": {},
   "outputs": [],
   "source": [
    "# !wget https://rawgithubusercontent.com/DataTalksClub/llm-zoomcamp/blob/main/01-intro/documents.json"
   ]
  },
  {
   "cell_type": "code",
   "execution_count": 84,
   "id": "c17dca44-3e40-43ce-86cc-a6477e341eba",
   "metadata": {},
   "outputs": [],
   "source": [
    "import minsearch"
   ]
  },
  {
   "cell_type": "code",
   "execution_count": 85,
   "id": "fda19d74-fc95-46a6-8def-6f98c04158c2",
   "metadata": {},
   "outputs": [],
   "source": [
    "import json"
   ]
  },
  {
   "cell_type": "code",
   "execution_count": 86,
   "id": "cf9432f8-143b-440d-9e1a-6f4b2aee882c",
   "metadata": {},
   "outputs": [],
   "source": [
    "with open('../data/documents.json', 'rt') as f_in:\n",
    "    docs_raw = json.load(f_in)"
   ]
  },
  {
   "cell_type": "code",
   "execution_count": 87,
   "id": "b2eba37b-2792-4912-822a-1c5338fad720",
   "metadata": {},
   "outputs": [],
   "source": [
    "documents = []\n",
    "\n",
    "for course_dict in docs_raw:\n",
    "    for doc in course_dict['documents']:\n",
    "        doc['course'] = course_dict['course']\n",
    "        documents.append(doc)"
   ]
  },
  {
   "cell_type": "code",
   "execution_count": 88,
   "id": "4931bdcc-38c2-4f00-8cf2-7d371ee8dec5",
   "metadata": {},
   "outputs": [
    {
     "data": {
      "text/plain": [
       "{'text': \"The purpose of this document is to capture frequently asked technical questions\\nThe exact day and hour of the course will be 15th Jan 2024 at 17h00. The course will start with the first  “Office Hours'' live.1\\nSubscribe to course public Google Calendar (it works from Desktop only).\\nRegister before the course starts using this link.\\nJoin the course Telegram channel with announcements.\\nDon’t forget to register in DataTalks.Club's Slack and join the channel.\",\n",
       " 'section': 'General course-related questions',\n",
       " 'question': 'Course - When will the course start?',\n",
       " 'course': 'data-engineering-zoomcamp'}"
      ]
     },
     "execution_count": 88,
     "metadata": {},
     "output_type": "execute_result"
    }
   ],
   "source": [
    "documents[0]"
   ]
  },
  {
   "cell_type": "code",
   "execution_count": 89,
   "id": "27614d65-6ccf-4be5-898e-282aebb14f0c",
   "metadata": {},
   "outputs": [],
   "source": [
    "index = minsearch.Index(\n",
    "    text_fields=[\"question\", \"text\", \"section\"],\n",
    "    keyword_fields=[\"course\"]\n",
    ")"
   ]
  },
  {
   "cell_type": "code",
   "execution_count": 90,
   "id": "64715916-186b-42ce-82b2-cb69d6cbf4b0",
   "metadata": {},
   "outputs": [
    {
     "data": {
      "text/plain": [
       "<minsearch.Index at 0x7fd9664d9400>"
      ]
     },
     "execution_count": 90,
     "metadata": {},
     "output_type": "execute_result"
    }
   ],
   "source": [
    "index.fit(documents)"
   ]
  },
  {
   "cell_type": "code",
   "execution_count": 91,
   "id": "d2a8e362-1ba8-43ea-8ea6-62e23f44b026",
   "metadata": {},
   "outputs": [],
   "source": [
    "from openai import OpenAI\n",
    "import os"
   ]
  },
  {
   "cell_type": "code",
   "execution_count": 92,
   "id": "ec75a17a-f1d7-422d-a067-98de7a8d3d3d",
   "metadata": {},
   "outputs": [],
   "source": [
    "client = OpenAI(\n",
    "    base_url=\"https://models.github.ai/inference\",\n",
    "    api_key=os.environ[\"GITHUB_TOKEN\"],\n",
    ")"
   ]
  },
  {
   "cell_type": "code",
   "execution_count": 93,
   "id": "47a5e1c1-3466-4957-ab67-cc1aa4da31bb",
   "metadata": {},
   "outputs": [],
   "source": [
    "def search(query):\n",
    "    boost = {'question': 3.0, 'section':0.5}\n",
    "    results = index.search(\n",
    "        query = query,\n",
    "        # filter_dict = {'course': 'data-engineering-zoomcamp'},\n",
    "        boost_dict = boost,\n",
    "        num_results=5\n",
    "    )\n",
    "    return results"
   ]
  },
  {
   "cell_type": "code",
   "execution_count": 94,
   "id": "afef4d50-c96f-4349-82c7-31af5c5a08af",
   "metadata": {},
   "outputs": [],
   "source": [
    "search_results = search('how do i run kafka?')"
   ]
  },
  {
   "cell_type": "code",
   "execution_count": 95,
   "id": "f46a9350-7597-4283-a39f-8608c20db6d1",
   "metadata": {},
   "outputs": [],
   "source": [
    "def build_prompt(query, search_results):\n",
    "    prompt_template = \"\"\"\n",
    "    You're a course teaching assistant. Answer the QUESTIONS based\n",
    "    on the CONTEXT from the FAQ database.\n",
    "    Use only the facts from the CONTEXT when answering the QUESTION.\n",
    "    If the CONTEXT doesn't contain the answer, output NONE\n",
    "    \n",
    "    QUESTION: {question}\n",
    "    \n",
    "    CONTEXT:\n",
    "    {context}\n",
    "    \"\"\".strip()\n",
    "    context = \"\"\n",
    "    \n",
    "    for doc in search_results:\n",
    "        context += f\"section: {doc['section']}\\nquestion: {doc['question']}\\nanswer: {doc['text']}\\n\\n\"\n",
    "    \n",
    "    prompt = prompt_template.format(question=query, context=context).strip()\n",
    "    \n",
    "    return prompt"
   ]
  },
  {
   "cell_type": "code",
   "execution_count": 96,
   "id": "305da9bc-cdf0-4447-90f7-49c8bacce263",
   "metadata": {},
   "outputs": [
    {
     "name": "stdout",
     "output_type": "stream",
     "text": [
      "You're a course teaching assistant. Answer the QUESTIONS based\n",
      "    on the CONTEXT from the FAQ database.\n",
      "    Use only the facts from the CONTEXT when answering the QUESTION.\n",
      "    If the CONTEXT doesn't contain the answer, output NONE\n",
      "    \n",
      "    QUESTION: how do i run kafka?\n",
      "    \n",
      "    CONTEXT:\n",
      "    section: Module 6: streaming with kafka\n",
      "question: Java Kafka: How to run producer/consumer/kstreams/etc in terminal\n",
      "answer: In the project directory, run:\n",
      "java -cp build/libs/<jar_name>-1.0-SNAPSHOT.jar:out src/main/java/org/example/JsonProducer.java\n",
      "\n",
      "section: Module 6: streaming with kafka\n",
      "question: Module “kafka” not found when trying to run producer.py\n",
      "answer: Solution from Alexey: create a virtual environment and run requirements.txt and the python files in that environment.\n",
      "To create a virtual env and install packages (run only once)\n",
      "python -m venv env\n",
      "source env/bin/activate\n",
      "pip install -r ../requirements.txt\n",
      "To activate it (you'll need to run it every time you need the virtual env):\n",
      "source env/bin/activate\n",
      "To deactivate it:\n",
      "deactivate\n",
      "This works on MacOS, Linux and Windows - but for Windows the path is slightly different (it's env/Scripts/activate)\n",
      "Also the virtual environment should be created only to run the python file. Docker images should first all be up and running.\n",
      "\n",
      "section: Workshop 1 - dlthub\n",
      "question: How do I install the necessary dependencies to run the code?\n",
      "answer: Answer: To run the provided code, ensure that the 'dlt[duckdb]' package is installed. You can do this by executing the provided installation command: !pip install dlt[duckdb]. If you’re doing it locally, be sure to also have duckdb pip installed (even before the duckdb package is loaded).\n",
      "\n",
      "section: 9. Serverless Deep Learning\n",
      "question: Docker run error\n",
      "answer: docker: Error response from daemon: mkdir /var/lib/docker/overlay2/37be849565da96ac3fce34ee9eb2215bd6cd7899a63ebc0ace481fd735c4cb0e-init: read-only file system.\n",
      "You need to restart the docker services to get rid of the above error\n",
      "Krishna Anand\n",
      "\n",
      "section: Module 6: streaming with kafka\n",
      "question: Python Kafka: ./build.sh: Permission denied Error\n",
      "answer: Run this command in terminal in the same directory (/docker/spark):\n",
      "chmod +x build.sh\n"
     ]
    }
   ],
   "source": [
    "print(build_prompt('how do i run kafka?', search_results))"
   ]
  },
  {
   "cell_type": "code",
   "execution_count": 97,
   "id": "08cf9abc-3179-4654-a8c3-1b34e58b5534",
   "metadata": {},
   "outputs": [],
   "source": [
    "def llm(prompt):\n",
    "    response = client.chat.completions.create(\n",
    "    messages=[\n",
    "        {\n",
    "            \"role\": \"user\",\n",
    "            \"content\": prompt,\n",
    "        },\n",
    "        ],\n",
    "    model=\"openai/gpt-4o-mini\",\n",
    "    temperature=1,\n",
    "    max_tokens=4096,\n",
    "    top_p=1\n",
    ")\n",
    "    return response.choices[0].message.content"
   ]
  },
  {
   "cell_type": "code",
   "execution_count": 99,
   "id": "1695ed6e-9db8-4d60-8439-63be399eeedf",
   "metadata": {},
   "outputs": [],
   "source": [
    "query = 'what else  do i need to do other than finishing the project to get a certificate?'\n",
    "search_results = search(query)\n",
    "prompt = build_prompt(query, search_results)\n",
    "answer = llm(prompt)"
   ]
  },
  {
   "cell_type": "code",
   "execution_count": 100,
   "id": "f6510613-33df-4da2-b1c8-df822d26ec6f",
   "metadata": {},
   "outputs": [
    {
     "data": {
      "text/plain": [
       "'To get a certificate, you need to finish at least 2 out of 3 projects and review 3 peers’ projects by the deadline, in addition to finishing your project.'"
      ]
     },
     "execution_count": 100,
     "metadata": {},
     "output_type": "execute_result"
    }
   ],
   "source": [
    "answer"
   ]
  },
  {
   "cell_type": "code",
   "execution_count": 101,
   "id": "05f37a05-e706-4ad6-989d-2f45f9081c0f",
   "metadata": {},
   "outputs": [
    {
     "data": {
      "text/plain": [
       "[{'text': 'Yes, if you finish at least 2 out of 3 projects and review 3 peers’ Projects by the deadline, you will get a certificate. This is what it looks like: link. There’s also a version without a robot: link.',\n",
       "  'section': 'General course-related questions',\n",
       "  'question': 'Will I get a certificate?',\n",
       "  'course': 'machine-learning-zoomcamp'},\n",
       " {'text': 'There is only ONE project for this Zoomcamp. You do not need to submit or create two projects. There are simply TWO chances to pass the course. You can use the Second Attempt if you a) fail the first attempt b) do not have the time due to other engagements such as holiday or sickness etc. to enter your project into the first attempt.',\n",
       "  'section': 'Project',\n",
       "  'question': 'Project 1 & Project 2',\n",
       "  'course': 'data-engineering-zoomcamp'},\n",
       " {'text': \"No, you can only get a certificate if you finish the course with a “live” cohort. We don't award certificates for the self-paced mode. The reason is you need to peer-review capstone(s) after submitting a project. You can only peer-review projects at the time the course is running.\",\n",
       "  'section': 'General course-related questions',\n",
       "  'question': 'Certificate - Can I follow the course in a self-paced mode and get a certificate?',\n",
       "  'course': 'data-engineering-zoomcamp'},\n",
       " {'text': 'In this lecture, Alexey deleted his instance in Google Cloud. Do I have to do it?\\nNope. Do not delete your instance in Google Cloud platform. Otherwise, you have to do this twice for the week 1 readings.',\n",
       "  'section': 'Module 1: Docker and Terraform',\n",
       "  'question': 'GCP - Do I need to delete my instance in Google Cloud?',\n",
       "  'course': 'data-engineering-zoomcamp'},\n",
       " {'text': \"Yes, it's possible. See the previous answer.\",\n",
       "  'section': 'General course-related questions',\n",
       "  'question': 'Will I get a certificate if I missed the midterm project?',\n",
       "  'course': 'machine-learning-zoomcamp'}]"
      ]
     },
     "execution_count": 101,
     "metadata": {},
     "output_type": "execute_result"
    }
   ],
   "source": [
    "search_results"
   ]
  },
  {
   "cell_type": "code",
   "execution_count": 102,
   "id": "4a6ecfe7-a921-424f-bfca-4093b8b3cc76",
   "metadata": {},
   "outputs": [],
   "source": [
    "query = 'can i enroll in the course if it already strted?'\n",
    "\n",
    "def rag(query):\n",
    "    search_results = search(query)\n",
    "    prompt = build_prompt(query, search_results)\n",
    "    answer = llm(prompt)\n",
    "    return answer"
   ]
  },
  {
   "cell_type": "code",
   "execution_count": 103,
   "id": "d537269f-9639-4e76-b4fd-9963baa62b8d",
   "metadata": {},
   "outputs": [
    {
     "data": {
      "text/plain": [
       "'Yes, you can. You won’t be able to submit some of the homeworks, but you can still take part in the course.'"
      ]
     },
     "execution_count": 103,
     "metadata": {},
     "output_type": "execute_result"
    }
   ],
   "source": [
    "rag(query)"
   ]
  },
  {
   "cell_type": "code",
   "execution_count": 104,
   "id": "a33296d8-2f2f-423c-9de0-37ac204ffb6f",
   "metadata": {},
   "outputs": [],
   "source": [
    "from elasticsearch import Elasticsearch"
   ]
  },
  {
   "cell_type": "code",
   "execution_count": 105,
   "id": "a1a2ca66-03e5-4e70-bfdd-6f0fdffd6b6c",
   "metadata": {},
   "outputs": [],
   "source": [
    "es_client = Elasticsearch('http://elasticsearch:9200')"
   ]
  },
  {
   "cell_type": "code",
   "execution_count": 106,
   "id": "8491f566-067d-4d7f-b344-786c55098537",
   "metadata": {},
   "outputs": [],
   "source": [
    "index_settings = {\n",
    "    \"settings\":{\n",
    "        \"number_of_shards\": 1,\n",
    "        \"number_of_replicas\": 0\n",
    "    },\n",
    "    \"mappings\":{\n",
    "        \"properties\":{\n",
    "            \"text\":{\"type\": \"text\"},\n",
    "            \"section\": {\"type\": \"text\"},\n",
    "            \"question\": {\"type\": \"text\"},\n",
    "            \"course\": {\"type\": \"keyword\"}\n",
    "            \n",
    "        }\n",
    "    }\n",
    "\n",
    "}   \n",
    "index_name = \"course-questions\"\n",
    "es_client.indices.create(index=index_name, body=index_settings)"
   ]
  },
  {
   "cell_type": "code",
   "execution_count": 107,
   "id": "79152162-b0b5-4db8-abb4-ca9b7fa91d24",
   "metadata": {},
   "outputs": [
    {
     "data": {
      "text/plain": [
       "{'text': \"The purpose of this document is to capture frequently asked technical questions\\nThe exact day and hour of the course will be 15th Jan 2024 at 17h00. The course will start with the first  “Office Hours'' live.1\\nSubscribe to course public Google Calendar (it works from Desktop only).\\nRegister before the course starts using this link.\\nJoin the course Telegram channel with announcements.\\nDon’t forget to register in DataTalks.Club's Slack and join the channel.\",\n",
       " 'section': 'General course-related questions',\n",
       " 'question': 'Course - When will the course start?',\n",
       " 'course': 'data-engineering-zoomcamp'}"
      ]
     },
     "execution_count": 107,
     "metadata": {},
     "output_type": "execute_result"
    }
   ],
   "source": [
    "documents[0]"
   ]
  },
  {
   "cell_type": "code",
   "execution_count": 108,
   "id": "1325944f-3dcf-40f4-8071-891d87478eeb",
   "metadata": {},
   "outputs": [],
   "source": [
    "from tqdm.auto import tqdm"
   ]
  },
  {
   "cell_type": "code",
   "execution_count": 109,
   "id": "dabe9a23-60fd-46b9-aa47-5a23eccb13ef",
   "metadata": {},
   "outputs": [
    {
     "data": {
      "application/vnd.jupyter.widget-view+json": {
       "model_id": "7e207e5f15764a609f7dedea382c671b",
       "version_major": 2,
       "version_minor": 0
      },
      "text/plain": [
       "  0%|          | 0/948 [00:00<?, ?it/s]"
      ]
     },
     "metadata": {},
     "output_type": "display_data"
    }
   ],
   "source": [
    "for doc in tqdm(documents):\n",
    "    es_client.index(index=index_name, document=doc)"
   ]
  },
  {
   "cell_type": "code",
   "execution_count": 110,
   "id": "c331bdbb-4aae-4303-922b-78cf0f9daeae",
   "metadata": {},
   "outputs": [
    {
     "name": "stdout",
     "output_type": "stream",
     "text": [
      "✅ Index 'course-questions' exists!\n"
     ]
    }
   ],
   "source": [
    "if es_client.indices.exists(index=index_name):\n",
    "    print(f\"✅ Index '{index_name}' exists!\")\n",
    "else:\n",
    "    print(f\"❌ Index '{index_name}' does NOT exist.\")\n"
   ]
  },
  {
   "cell_type": "code",
   "execution_count": 111,
   "id": "bf3535a0-bf80-4557-b188-8655d029e856",
   "metadata": {},
   "outputs": [
    {
     "name": "stdout",
     "output_type": "stream",
     "text": [
      "There are 1896 documents in the index 'course-questions'.\n"
     ]
    }
   ],
   "source": [
    "count = es_client.count(index=index_name)['count']\n",
    "print(f\"There are {count} documents in the index '{index_name}'.\")"
   ]
  },
  {
   "cell_type": "code",
   "execution_count": 112,
   "id": "69d0fbce-ad7a-4293-bb69-9da02fa02a9b",
   "metadata": {},
   "outputs": [],
   "source": [
    "query = 'how can i install kafka?'"
   ]
  },
  {
   "cell_type": "code",
   "execution_count": 113,
   "id": "107d9370-65a3-463f-a036-9a63babba6f9",
   "metadata": {},
   "outputs": [],
   "source": [
    "def elastic_search(query):\n",
    "    search_query = {\n",
    "            \"size\": 5,\n",
    "            \"query\": {\n",
    "                \"bool\": {\n",
    "                    \"must\": {\n",
    "                        \"multi_match\": {\n",
    "                            \"query\": query,\n",
    "                            \"fields\": [\"question^3\", \"text\", \"section\"],\n",
    "                            \"type\": \"best_fields\"\n",
    "                        }\n",
    "                    },\n",
    "                    \"filter\": {\n",
    "                        \"term\": {\n",
    "                            \"course\": \"data-engineering-zoomcamp\"\n",
    "                        }\n",
    "                    }\n",
    "                }\n",
    "            }\n",
    "        }\n",
    "    response = es_client.search(index=index_name, body=search_query)\n",
    "    result_docs = []\n",
    "    for hit in response['hits']['hits']:\n",
    "        result_docs.append(hit['_source'])\n",
    "    return result_docs"
   ]
  },
  {
   "cell_type": "code",
   "execution_count": 114,
   "id": "cbc20798-b3c9-436b-9c8b-75ec939d86a5",
   "metadata": {},
   "outputs": [
    {
     "data": {
      "text/plain": [
       "[{'text': 'In Confluent Cloud:\\nEnvironment → default (or whatever you named your environment as) → The right navigation bar →  “Stream Governance API” →  The URL under “Endpoint”\\nAnd create credentials from Credentials section below it',\n",
       "  'section': 'Module 6: streaming with kafka',\n",
       "  'question': 'Confluent Kafka: Where can I find schema registry URL?',\n",
       "  'course': 'data-engineering-zoomcamp'},\n",
       " {'text': 'In Confluent Cloud:\\nEnvironment → default (or whatever you named your environment as) → The right navigation bar →  “Stream Governance API” →  The URL under “Endpoint”\\nAnd create credentials from Credentials section below it',\n",
       "  'section': 'Module 6: streaming with kafka',\n",
       "  'question': 'Confluent Kafka: Where can I find schema registry URL?',\n",
       "  'course': 'data-engineering-zoomcamp'},\n",
       " {'text': 'Alternatively, you can switch to in-file storage with:',\n",
       "  'section': 'Workshop 1 - dlthub',\n",
       "  'question': 'How can I use DuckDB In-Memory database with dlt ?',\n",
       "  'course': 'data-engineering-zoomcamp'},\n",
       " {'text': 'Alternatively, you can switch to in-file storage with:',\n",
       "  'section': 'Workshop 1 - dlthub',\n",
       "  'question': 'How can I use DuckDB In-Memory database with dlt ?',\n",
       "  'course': 'data-engineering-zoomcamp'},\n",
       " {'text': \"Answer: To run the provided code, ensure that the 'dlt[duckdb]' package is installed. You can do this by executing the provided installation command: !pip install dlt[duckdb]. If you’re doing it locally, be sure to also have duckdb pip installed (even before the duckdb package is loaded).\",\n",
       "  'section': 'Workshop 1 - dlthub',\n",
       "  'question': 'How do I install the necessary dependencies to run the code?',\n",
       "  'course': 'data-engineering-zoomcamp'}]"
      ]
     },
     "execution_count": 114,
     "metadata": {},
     "output_type": "execute_result"
    }
   ],
   "source": [
    "elastic_search(query)"
   ]
  },
  {
   "cell_type": "code",
   "execution_count": 115,
   "id": "46c8fd09-0014-4839-8439-8ba9b1686892",
   "metadata": {},
   "outputs": [],
   "source": [
    "search_query = {\n",
    "            \"size\": 5,\n",
    "            \"query\": {\n",
    "                \"bool\": {\n",
    "                    \"must\": {\n",
    "                        \"multi_match\": {\n",
    "                            \"query\": query,\n",
    "                            \"fields\": [\"question^3\", \"text\", \"section\"],\n",
    "                            \"type\": \"best_fields\"\n",
    "                        }\n",
    "                    },\n",
    "                    \"filter\": {\n",
    "                        \"term\": {\n",
    "                            \"course\": \"data-engineering-zoomcamp\"\n",
    "                        }\n",
    "                    }\n",
    "                }\n",
    "            }\n",
    "        }"
   ]
  },
  {
   "cell_type": "code",
   "execution_count": 116,
   "id": "27f40d5f-2040-4b44-9e86-7e00be5e6121",
   "metadata": {},
   "outputs": [],
   "source": [
    "response = es_client.search(index=index_name, body=search_query)"
   ]
  },
  {
   "cell_type": "code",
   "execution_count": 117,
   "id": "af07d7f5-ea32-4a1b-9734-633b079afc44",
   "metadata": {},
   "outputs": [
    {
     "data": {
      "text/plain": [
       "ObjectApiResponse({'took': 9, 'timed_out': False, '_shards': {'total': 1, 'successful': 1, 'skipped': 0, 'failed': 0}, 'hits': {'total': {'value': 520, 'relation': 'eq'}, 'max_score': 29.817202, 'hits': [{'_index': 'course-questions', '_id': 'Af8BZ5kBaSgjd0X3v4Hr', '_score': 29.817202, '_source': {'text': 'In Confluent Cloud:\\nEnvironment → default (or whatever you named your environment as) → The right navigation bar →  “Stream Governance API” →  The URL under “Endpoint”\\nAnd create credentials from Credentials section below it', 'section': 'Module 6: streaming with kafka', 'question': 'Confluent Kafka: Where can I find schema registry URL?', 'course': 'data-engineering-zoomcamp'}}, {'_index': 'course-questions', '_id': 'tf8GZ5kBaSgjd0X3PYQd', '_score': 29.817202, '_source': {'text': 'In Confluent Cloud:\\nEnvironment → default (or whatever you named your environment as) → The right navigation bar →  “Stream Governance API” →  The URL under “Endpoint”\\nAnd create credentials from Credentials section below it', 'section': 'Module 6: streaming with kafka', 'question': 'Confluent Kafka: Where can I find schema registry URL?', 'course': 'data-engineering-zoomcamp'}}, {'_index': 'course-questions', '_id': 'F_8BZ5kBaSgjd0X3wIFx', '_score': 23.39395, '_source': {'text': 'Alternatively, you can switch to in-file storage with:', 'section': 'Workshop 1 - dlthub', 'question': 'How can I use DuckDB In-Memory database with dlt ?', 'course': 'data-engineering-zoomcamp'}}, {'_index': 'course-questions', '_id': 'y_8GZ5kBaSgjd0X3PYST', '_score': 23.39395, '_source': {'text': 'Alternatively, you can switch to in-file storage with:', 'section': 'Workshop 1 - dlthub', 'question': 'How can I use DuckDB In-Memory database with dlt ?', 'course': 'data-engineering-zoomcamp'}}, {'_index': 'course-questions', '_id': 'Ff8BZ5kBaSgjd0X3wIFl', '_score': 23.216597, '_source': {'text': \"Answer: To run the provided code, ensure that the 'dlt[duckdb]' package is installed. You can do this by executing the provided installation command: !pip install dlt[duckdb]. If you’re doing it locally, be sure to also have duckdb pip installed (even before the duckdb package is loaded).\", 'section': 'Workshop 1 - dlthub', 'question': 'How do I install the necessary dependencies to run the code?', 'course': 'data-engineering-zoomcamp'}}]}})"
      ]
     },
     "execution_count": 117,
     "metadata": {},
     "output_type": "execute_result"
    }
   ],
   "source": [
    "response"
   ]
  },
  {
   "cell_type": "code",
   "execution_count": 118,
   "id": "5b8ae636-b97b-4c5a-806b-1be1cbe6ae9a",
   "metadata": {},
   "outputs": [
    {
     "data": {
      "text/plain": [
       "{'total': {'value': 520, 'relation': 'eq'},\n",
       " 'max_score': 29.817202,\n",
       " 'hits': [{'_index': 'course-questions',\n",
       "   '_id': 'Af8BZ5kBaSgjd0X3v4Hr',\n",
       "   '_score': 29.817202,\n",
       "   '_source': {'text': 'In Confluent Cloud:\\nEnvironment → default (or whatever you named your environment as) → The right navigation bar →  “Stream Governance API” →  The URL under “Endpoint”\\nAnd create credentials from Credentials section below it',\n",
       "    'section': 'Module 6: streaming with kafka',\n",
       "    'question': 'Confluent Kafka: Where can I find schema registry URL?',\n",
       "    'course': 'data-engineering-zoomcamp'}},\n",
       "  {'_index': 'course-questions',\n",
       "   '_id': 'tf8GZ5kBaSgjd0X3PYQd',\n",
       "   '_score': 29.817202,\n",
       "   '_source': {'text': 'In Confluent Cloud:\\nEnvironment → default (or whatever you named your environment as) → The right navigation bar →  “Stream Governance API” →  The URL under “Endpoint”\\nAnd create credentials from Credentials section below it',\n",
       "    'section': 'Module 6: streaming with kafka',\n",
       "    'question': 'Confluent Kafka: Where can I find schema registry URL?',\n",
       "    'course': 'data-engineering-zoomcamp'}},\n",
       "  {'_index': 'course-questions',\n",
       "   '_id': 'F_8BZ5kBaSgjd0X3wIFx',\n",
       "   '_score': 23.39395,\n",
       "   '_source': {'text': 'Alternatively, you can switch to in-file storage with:',\n",
       "    'section': 'Workshop 1 - dlthub',\n",
       "    'question': 'How can I use DuckDB In-Memory database with dlt ?',\n",
       "    'course': 'data-engineering-zoomcamp'}},\n",
       "  {'_index': 'course-questions',\n",
       "   '_id': 'y_8GZ5kBaSgjd0X3PYST',\n",
       "   '_score': 23.39395,\n",
       "   '_source': {'text': 'Alternatively, you can switch to in-file storage with:',\n",
       "    'section': 'Workshop 1 - dlthub',\n",
       "    'question': 'How can I use DuckDB In-Memory database with dlt ?',\n",
       "    'course': 'data-engineering-zoomcamp'}},\n",
       "  {'_index': 'course-questions',\n",
       "   '_id': 'Ff8BZ5kBaSgjd0X3wIFl',\n",
       "   '_score': 23.216597,\n",
       "   '_source': {'text': \"Answer: To run the provided code, ensure that the 'dlt[duckdb]' package is installed. You can do this by executing the provided installation command: !pip install dlt[duckdb]. If you’re doing it locally, be sure to also have duckdb pip installed (even before the duckdb package is loaded).\",\n",
       "    'section': 'Workshop 1 - dlthub',\n",
       "    'question': 'How do I install the necessary dependencies to run the code?',\n",
       "    'course': 'data-engineering-zoomcamp'}}]}"
      ]
     },
     "execution_count": 118,
     "metadata": {},
     "output_type": "execute_result"
    }
   ],
   "source": [
    "response['hits']"
   ]
  },
  {
   "cell_type": "code",
   "execution_count": 119,
   "id": "c4ddd95f-6315-4f1c-ada9-5eceeca0a918",
   "metadata": {},
   "outputs": [
    {
     "data": {
      "text/plain": [
       "[{'_index': 'course-questions',\n",
       "  '_id': 'Af8BZ5kBaSgjd0X3v4Hr',\n",
       "  '_score': 29.817202,\n",
       "  '_source': {'text': 'In Confluent Cloud:\\nEnvironment → default (or whatever you named your environment as) → The right navigation bar →  “Stream Governance API” →  The URL under “Endpoint”\\nAnd create credentials from Credentials section below it',\n",
       "   'section': 'Module 6: streaming with kafka',\n",
       "   'question': 'Confluent Kafka: Where can I find schema registry URL?',\n",
       "   'course': 'data-engineering-zoomcamp'}},\n",
       " {'_index': 'course-questions',\n",
       "  '_id': 'tf8GZ5kBaSgjd0X3PYQd',\n",
       "  '_score': 29.817202,\n",
       "  '_source': {'text': 'In Confluent Cloud:\\nEnvironment → default (or whatever you named your environment as) → The right navigation bar →  “Stream Governance API” →  The URL under “Endpoint”\\nAnd create credentials from Credentials section below it',\n",
       "   'section': 'Module 6: streaming with kafka',\n",
       "   'question': 'Confluent Kafka: Where can I find schema registry URL?',\n",
       "   'course': 'data-engineering-zoomcamp'}},\n",
       " {'_index': 'course-questions',\n",
       "  '_id': 'F_8BZ5kBaSgjd0X3wIFx',\n",
       "  '_score': 23.39395,\n",
       "  '_source': {'text': 'Alternatively, you can switch to in-file storage with:',\n",
       "   'section': 'Workshop 1 - dlthub',\n",
       "   'question': 'How can I use DuckDB In-Memory database with dlt ?',\n",
       "   'course': 'data-engineering-zoomcamp'}},\n",
       " {'_index': 'course-questions',\n",
       "  '_id': 'y_8GZ5kBaSgjd0X3PYST',\n",
       "  '_score': 23.39395,\n",
       "  '_source': {'text': 'Alternatively, you can switch to in-file storage with:',\n",
       "   'section': 'Workshop 1 - dlthub',\n",
       "   'question': 'How can I use DuckDB In-Memory database with dlt ?',\n",
       "   'course': 'data-engineering-zoomcamp'}},\n",
       " {'_index': 'course-questions',\n",
       "  '_id': 'Ff8BZ5kBaSgjd0X3wIFl',\n",
       "  '_score': 23.216597,\n",
       "  '_source': {'text': \"Answer: To run the provided code, ensure that the 'dlt[duckdb]' package is installed. You can do this by executing the provided installation command: !pip install dlt[duckdb]. If you’re doing it locally, be sure to also have duckdb pip installed (even before the duckdb package is loaded).\",\n",
       "   'section': 'Workshop 1 - dlthub',\n",
       "   'question': 'How do I install the necessary dependencies to run the code?',\n",
       "   'course': 'data-engineering-zoomcamp'}}]"
      ]
     },
     "execution_count": 119,
     "metadata": {},
     "output_type": "execute_result"
    }
   ],
   "source": [
    "response['hits']['hits']"
   ]
  },
  {
   "cell_type": "code",
   "execution_count": 120,
   "id": "b20ebe8c-81d8-4eec-badb-64786cd8558d",
   "metadata": {},
   "outputs": [],
   "source": [
    "result_docs = []\n",
    "for hit in response['hits']['hits']:\n",
    "    result_docs.append(hit['_source'])"
   ]
  },
  {
   "cell_type": "code",
   "execution_count": 121,
   "id": "ad0f3325-328c-453b-b337-4d1277e8babb",
   "metadata": {},
   "outputs": [
    {
     "data": {
      "text/plain": [
       "[{'text': 'In Confluent Cloud:\\nEnvironment → default (or whatever you named your environment as) → The right navigation bar →  “Stream Governance API” →  The URL under “Endpoint”\\nAnd create credentials from Credentials section below it',\n",
       "  'section': 'Module 6: streaming with kafka',\n",
       "  'question': 'Confluent Kafka: Where can I find schema registry URL?',\n",
       "  'course': 'data-engineering-zoomcamp'},\n",
       " {'text': 'In Confluent Cloud:\\nEnvironment → default (or whatever you named your environment as) → The right navigation bar →  “Stream Governance API” →  The URL under “Endpoint”\\nAnd create credentials from Credentials section below it',\n",
       "  'section': 'Module 6: streaming with kafka',\n",
       "  'question': 'Confluent Kafka: Where can I find schema registry URL?',\n",
       "  'course': 'data-engineering-zoomcamp'},\n",
       " {'text': 'Alternatively, you can switch to in-file storage with:',\n",
       "  'section': 'Workshop 1 - dlthub',\n",
       "  'question': 'How can I use DuckDB In-Memory database with dlt ?',\n",
       "  'course': 'data-engineering-zoomcamp'},\n",
       " {'text': 'Alternatively, you can switch to in-file storage with:',\n",
       "  'section': 'Workshop 1 - dlthub',\n",
       "  'question': 'How can I use DuckDB In-Memory database with dlt ?',\n",
       "  'course': 'data-engineering-zoomcamp'},\n",
       " {'text': \"Answer: To run the provided code, ensure that the 'dlt[duckdb]' package is installed. You can do this by executing the provided installation command: !pip install dlt[duckdb]. If you’re doing it locally, be sure to also have duckdb pip installed (even before the duckdb package is loaded).\",\n",
       "  'section': 'Workshop 1 - dlthub',\n",
       "  'question': 'How do I install the necessary dependencies to run the code?',\n",
       "  'course': 'data-engineering-zoomcamp'}]"
      ]
     },
     "execution_count": 121,
     "metadata": {},
     "output_type": "execute_result"
    }
   ],
   "source": [
    "result_docs"
   ]
  },
  {
   "cell_type": "code",
   "execution_count": 122,
   "id": "840b5f2d-78db-486c-8a24-30ddd1de1e7b",
   "metadata": {},
   "outputs": [],
   "source": [
    "def rag(query):\n",
    "    search_results = elastic_search(query)\n",
    "    prompt = build_prompt(query, search_results)\n",
    "    answer = llm(prompt)\n",
    "    return answer"
   ]
  },
  {
   "cell_type": "code",
   "execution_count": 123,
   "id": "70907c8f-a1f3-41d7-b5ef-007d843cac71",
   "metadata": {},
   "outputs": [],
   "source": [
    "search_results = elastic_search(query)"
   ]
  },
  {
   "cell_type": "code",
   "execution_count": 124,
   "id": "f6c66395-f080-444b-b854-192207e8901a",
   "metadata": {},
   "outputs": [
    {
     "name": "stdout",
     "output_type": "stream",
     "text": [
      "You're a course teaching assistant. Answer the QUESTIONS based\n",
      "    on the CONTEXT from the FAQ database.\n",
      "    Use only the facts from the CONTEXT when answering the QUESTION.\n",
      "    If the CONTEXT doesn't contain the answer, output NONE\n",
      "    \n",
      "    QUESTION: how can i install kafka?\n",
      "    \n",
      "    CONTEXT:\n",
      "    section: Module 6: streaming with kafka\n",
      "question: Confluent Kafka: Where can I find schema registry URL?\n",
      "answer: In Confluent Cloud:\n",
      "Environment → default (or whatever you named your environment as) → The right navigation bar →  “Stream Governance API” →  The URL under “Endpoint”\n",
      "And create credentials from Credentials section below it\n",
      "\n",
      "section: Module 6: streaming with kafka\n",
      "question: Confluent Kafka: Where can I find schema registry URL?\n",
      "answer: In Confluent Cloud:\n",
      "Environment → default (or whatever you named your environment as) → The right navigation bar →  “Stream Governance API” →  The URL under “Endpoint”\n",
      "And create credentials from Credentials section below it\n",
      "\n",
      "section: Workshop 1 - dlthub\n",
      "question: How can I use DuckDB In-Memory database with dlt ?\n",
      "answer: Alternatively, you can switch to in-file storage with:\n",
      "\n",
      "section: Workshop 1 - dlthub\n",
      "question: How can I use DuckDB In-Memory database with dlt ?\n",
      "answer: Alternatively, you can switch to in-file storage with:\n",
      "\n",
      "section: Workshop 1 - dlthub\n",
      "question: How do I install the necessary dependencies to run the code?\n",
      "answer: Answer: To run the provided code, ensure that the 'dlt[duckdb]' package is installed. You can do this by executing the provided installation command: !pip install dlt[duckdb]. If you’re doing it locally, be sure to also have duckdb pip installed (even before the duckdb package is loaded).\n"
     ]
    }
   ],
   "source": [
    "prompt = build_prompt(query, search_results)\n",
    "print(prompt)"
   ]
  },
  {
   "cell_type": "code",
   "execution_count": 125,
   "id": "b4d9c58d-03a9-4ca1-a5e5-aefafcb73d01",
   "metadata": {},
   "outputs": [
    {
     "data": {
      "text/plain": [
       "\"Yes, even if you don't register, you're still eligible to submit the homeworks. Be aware, however, that there will be deadlines for turning in the final projects. So don't leave everything for the last minute.\""
      ]
     },
     "execution_count": 125,
     "metadata": {},
     "output_type": "execute_result"
    }
   ],
   "source": [
    "query = 'can i enroll in the course after it started'\n",
    "rag(query)"
   ]
  }
 ],
 "metadata": {
  "kernelspec": {
   "display_name": "Python 3 (ipykernel)",
   "language": "python",
   "name": "python3"
  },
  "language_info": {
   "codemirror_mode": {
    "name": "ipython",
    "version": 3
   },
   "file_extension": ".py",
   "mimetype": "text/x-python",
   "name": "python",
   "nbconvert_exporter": "python",
   "pygments_lexer": "ipython3",
   "version": "3.12.7"
  }
 },
 "nbformat": 4,
 "nbformat_minor": 5
}
