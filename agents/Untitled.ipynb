{
 "cells": [
  {
   "cell_type": "code",
   "execution_count": 20,
   "id": "304b805e-ac7e-44bb-b367-eff7126001e1",
   "metadata": {},
   "outputs": [],
   "source": [
    "# pip install jupyter openai minsearch requests"
   ]
  },
  {
   "cell_type": "code",
   "execution_count": 21,
   "id": "f96196f9-1c4a-492a-a4a4-77c9c29b1397",
   "metadata": {},
   "outputs": [],
   "source": [
    "import requests \n",
    "\n",
    "docs_url = 'https://github.com/alexeygrigorev/llm-rag-workshop/raw/main/notebooks/documents.json'\n",
    "docs_response = requests.get(docs_url)\n",
    "documents_raw = docs_response.json()\n",
    "\n",
    "documents = []\n",
    "\n",
    "for course in documents_raw:\n",
    "    course_name = course['course']\n",
    "\n",
    "    for doc in course['documents']:\n",
    "        doc['course'] = course_name\n",
    "        documents.append(doc)"
   ]
  },
  {
   "cell_type": "code",
   "execution_count": 22,
   "id": "234237d2-5acb-46f2-a096-7f62c7eac138",
   "metadata": {},
   "outputs": [
    {
     "data": {
      "text/plain": [
       "<minsearch.append.AppendableIndex at 0x7f861555ff20>"
      ]
     },
     "execution_count": 22,
     "metadata": {},
     "output_type": "execute_result"
    }
   ],
   "source": [
    "from minsearch import AppendableIndex\n",
    "\n",
    "index = AppendableIndex(\n",
    "    text_fields=[\"question\", \"text\", \"section\"],\n",
    "    keyword_fields=[\"course\"]\n",
    ")\n",
    "\n",
    "index.fit(documents)"
   ]
  },
  {
   "cell_type": "code",
   "execution_count": 23,
   "id": "1dd19be0-95a3-40c7-80a0-d39172c7d90a",
   "metadata": {},
   "outputs": [],
   "source": [
    "def search(query):\n",
    "    boost = {'question': 3.0, 'section': 0.5}\n",
    "\n",
    "    results = index.search(\n",
    "        query=query,\n",
    "        filter_dict={'course': 'data-engineering-zoomcamp'},\n",
    "        boost_dict=boost,\n",
    "        num_results=5,\n",
    "        output_ids=True\n",
    "    )\n",
    "\n",
    "    return results"
   ]
  },
  {
   "cell_type": "code",
   "execution_count": 24,
   "id": "958f4b86-95c0-4de4-8847-a3e1764ea795",
   "metadata": {},
   "outputs": [],
   "source": [
    "prompt_template = \"\"\"\n",
    "You're a course teaching assistant. Answer the QUESTION based on the CONTEXT from the FAQ database.\n",
    "Use only the facts from the CONTEXT when answering the QUESTION.\n",
    "\n",
    "<QUESTION>\n",
    "{question}\n",
    "</QUESTION>\n",
    "\n",
    "<CONTEXT>\n",
    "{context}\n",
    "</CONTEXT>\n",
    "\"\"\".strip()\n",
    "\n",
    "def build_prompt(query, search_results):\n",
    "    context = \"\"\n",
    "\n",
    "    for doc in search_results:\n",
    "        context = context + f\"section: {doc['section']}\\nquestion: {doc['question']}\\nanswer: {doc['text']}\\n\\n\"\n",
    "    \n",
    "    prompt = prompt_template.format(question=query, context=context).strip()\n",
    "    return prompt"
   ]
  },
  {
   "cell_type": "code",
   "execution_count": 25,
   "id": "da54336d-58c6-4781-97ee-13d175882269",
   "metadata": {},
   "outputs": [],
   "source": [
    "from openai import OpenAI\n",
    "client = OpenAI()\n",
    "\n",
    "def llm(prompt):\n",
    "    response = client.chat.completions.create(\n",
    "        model='gpt-4o-mini',\n",
    "        messages=[{\"role\": \"user\", \"content\": prompt}]\n",
    "    )\n",
    "    return response.choices[0].message.content"
   ]
  },
  {
   "cell_type": "code",
   "execution_count": 26,
   "id": "db4da103-aa2c-4a72-989d-9e5013b323f2",
   "metadata": {},
   "outputs": [],
   "source": [
    "\n",
    "def rag(query):\n",
    "    search_results = search(query)\n",
    "    prompt = build_prompt(query, search_results)\n",
    "    answer = llm(prompt)\n",
    "    return answer"
   ]
  },
  {
   "cell_type": "code",
   "execution_count": 29,
   "id": "b59257bc-8d5f-41ea-95d3-2a9ee6de8008",
   "metadata": {},
   "outputs": [
    {
     "data": {
      "text/plain": [
       "\"I'm sorry, but there is no information provided in the context regarding how to patch KDE under FreeBSD. Please refer to relevant documentation or resources that might provide guidance on this topic.\""
      ]
     },
     "execution_count": 29,
     "metadata": {},
     "output_type": "execute_result"
    }
   ],
   "source": [
    "rag(\"How do I patch KDE under FreeBSD?\")"
   ]
  },
  {
   "cell_type": "code",
   "execution_count": 30,
   "id": "d67d98c9-b117-4cd4-8343-90709f7acd2b",
   "metadata": {},
   "outputs": [
    {
     "name": "stdout",
     "output_type": "stream",
     "text": [
      "Patching KDE under FreeBSD typically involves a few steps, which include updating your ports tree and applying any necessary patches to the KDE components. Below are general steps you can follow to apply patches to KDE:\n",
      "\n",
      "### Step 1: Update Ports Tree\n",
      "\n",
      "1. **Install Ports Collection (if you haven't already):**\n",
      "   If you do not have the ports collection set up, you can do so with:\n",
      "   ```bash\n",
      "   portsnap fetch extract\n",
      "   ```\n",
      "\n",
      "2. **Update the Ports Collection:**\n",
      "   To update your ports tree, use:\n",
      "   ```bash\n",
      "   portsnap fetch update\n",
      "   ```\n",
      "\n",
      "### Step 2: Locate the KDE Port\n",
      "\n",
      "Before you apply patches, identify the KDE port you are interested in. KDE components are often located in the `/usr/ports/x11/kde*` directory, where `kde*` corresponds to various modules (e.g., `kde5`, `kde5-applications`, etc.).\n",
      "\n",
      "### Step 3: Navigate to the KDE Port Directory\n",
      "\n",
      "Change directory to the specific KDE port you want to patch. For example:\n",
      "\n",
      "```bash\n",
      "cd /usr/ports/x11/kde5\n",
      "```\n",
      "\n",
      "### Step 4: Apply the Patch\n",
      "\n",
      "1. **Locate the Patch:**\n",
      "   If you have an existing patch file, make sure you know its location.\n",
      "\n",
      "2. **Create or Modify a Patch File:**\n",
      "   If you need to create a new patch, you can create a patch file in the `files` directory within the KDE port's directory. For example:\n",
      "   ```bash\n",
      "   mkdir -p files\n",
      "   cp /path/to/your_patch.patch files/\n",
      "   ```\n",
      "\n",
      "3. **Update the Makefile:**\n",
      "   You may need to edit the `Makefile` in the port's directory to apply the patch. Add the following line (if it doesn't already exist) inside the `files` section:\n",
      "   ```make\n",
      "   PATCH_SITES= http://url-to-your-patch/\n",
      "   PATCH_DISTFILES= your_patch.patch\n",
      "   ```\n",
      "\n",
      "   If you are working with a local patch file, you might use:\n",
      "   ```make\n",
      "   PATCHES= files/your_patch.patch\n",
      "   ```\n",
      "\n",
      "### Step 5: Build the Port\n",
      "\n",
      "Now that your patch is in place, you can build and install the port with the following:\n",
      "\n",
      "```bash\n",
      "make clean install\n",
      "```\n",
      "\n",
      "### Step 6: Test Your Patch\n",
      "\n",
      "Once the build process is complete, test the KDE installation to ensure that your patch works as intended.\n",
      "\n",
      "### Step 7: Clean Up (Optional)\n",
      "\n",
      "After confirming that everything works as expected, you may wish to clean up by removing any temporary files or patches that you no longer need.\n",
      "\n",
      "### Additional Notes\n",
      "\n",
      "- If you're applying patches for bug fixes or enhancements provided by others, always refer to the KDE FreeBSD mailing lists or forums for the latest patches.\n",
      "- Consider keeping track of your changes in case you need to revert or reapply them after updates.\n",
      "\n",
      "This process may vary slightly depending on the specific version of FreeBSD or KDE you are working with, but these general steps should guide you through most patching processes.\n"
     ]
    }
   ],
   "source": [
    "print(llm(\"How do I patch KDE under FreeBSD?\"))"
   ]
  }
 ],
 "metadata": {
  "kernelspec": {
   "display_name": "Python 3 (ipykernel)",
   "language": "python",
   "name": "python3"
  },
  "language_info": {
   "codemirror_mode": {
    "name": "ipython",
    "version": 3
   },
   "file_extension": ".py",
   "mimetype": "text/x-python",
   "name": "python",
   "nbconvert_exporter": "python",
   "pygments_lexer": "ipython3",
   "version": "3.12.7"
  }
 },
 "nbformat": 4,
 "nbformat_minor": 5
}
